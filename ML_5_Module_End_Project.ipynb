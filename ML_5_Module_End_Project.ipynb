{
 "cells": [
  {
   "cell_type": "code",
   "execution_count": 7,
   "id": "6512e901-adf7-421a-812f-287be5e020eb",
   "metadata": {},
   "outputs": [
    {
     "name": "stdout",
     "output_type": "stream",
     "text": [
      "   car_ID  symboling                   CarName fueltype aspiration doornumber  \\\n",
      "0       1          3        alfa-romero giulia      gas        std        two   \n",
      "1       2          3       alfa-romero stelvio      gas        std        two   \n",
      "2       3          1  alfa-romero Quadrifoglio      gas        std        two   \n",
      "3       4          2               audi 100 ls      gas        std       four   \n",
      "4       5          2                audi 100ls      gas        std       four   \n",
      "\n",
      "       carbody drivewheel enginelocation  wheelbase  ...  enginesize  \\\n",
      "0  convertible        rwd          front       88.6  ...         130   \n",
      "1  convertible        rwd          front       88.6  ...         130   \n",
      "2    hatchback        rwd          front       94.5  ...         152   \n",
      "3        sedan        fwd          front       99.8  ...         109   \n",
      "4        sedan        4wd          front       99.4  ...         136   \n",
      "\n",
      "   fuelsystem  boreratio  stroke compressionratio horsepower  peakrpm citympg  \\\n",
      "0        mpfi       3.47    2.68              9.0        111     5000      21   \n",
      "1        mpfi       3.47    2.68              9.0        111     5000      21   \n",
      "2        mpfi       2.68    3.47              9.0        154     5000      19   \n",
      "3        mpfi       3.19    3.40             10.0        102     5500      24   \n",
      "4        mpfi       3.19    3.40              8.0        115     5500      18   \n",
      "\n",
      "   highwaympg    price  \n",
      "0          27  13495.0  \n",
      "1          27  16500.0  \n",
      "2          26  16500.0  \n",
      "3          30  13950.0  \n",
      "4          22  17450.0  \n",
      "\n",
      "[5 rows x 26 columns]\n",
      "<class 'pandas.core.frame.DataFrame'>\n",
      "RangeIndex: 205 entries, 0 to 204\n",
      "Data columns (total 26 columns):\n",
      " #   Column            Non-Null Count  Dtype  \n",
      "---  ------            --------------  -----  \n",
      " 0   car_ID            205 non-null    int64  \n",
      " 1   symboling         205 non-null    int64  \n",
      " 2   CarName           205 non-null    object \n",
      " 3   fueltype          205 non-null    object \n",
      " 4   aspiration        205 non-null    object \n",
      " 5   doornumber        205 non-null    object \n",
      " 6   carbody           205 non-null    object \n",
      " 7   drivewheel        205 non-null    object \n",
      " 8   enginelocation    205 non-null    object \n",
      " 9   wheelbase         205 non-null    float64\n",
      " 10  carlength         205 non-null    float64\n",
      " 11  carwidth          205 non-null    float64\n",
      " 12  carheight         205 non-null    float64\n",
      " 13  curbweight        205 non-null    int64  \n",
      " 14  enginetype        205 non-null    object \n",
      " 15  cylindernumber    205 non-null    object \n",
      " 16  enginesize        205 non-null    int64  \n",
      " 17  fuelsystem        205 non-null    object \n",
      " 18  boreratio         205 non-null    float64\n",
      " 19  stroke            205 non-null    float64\n",
      " 20  compressionratio  205 non-null    float64\n",
      " 21  horsepower        205 non-null    int64  \n",
      " 22  peakrpm           205 non-null    int64  \n",
      " 23  citympg           205 non-null    int64  \n",
      " 24  highwaympg        205 non-null    int64  \n",
      " 25  price             205 non-null    float64\n",
      "dtypes: float64(8), int64(8), object(10)\n",
      "memory usage: 41.8+ KB\n",
      "None\n"
     ]
    }
   ],
   "source": [
    "#Loading\n",
    "import pandas as pd\n",
    "import numpy as np\n",
    "import matplotlib.pyplot as plt\n",
    "import seaborn as sns\n",
    "from sklearn.model_selection import train_test_split\n",
    "from sklearn.linear_model import LinearRegression\n",
    "from sklearn.tree import DecisionTreeRegressor\n",
    "from sklearn.ensemble import RandomForestRegressor,GradientBoostingRegressor\n",
    "from sklearn.svm import SVR\n",
    "from sklearn.preprocessing import StandardScaler\n",
    "from sklearn.metrics import r2_score,mean_squared_error,mean_absolute_error\n",
    "df=pd.read_csv(\"/Users/meenu/entri/CarPrice_Assignment.csv\")\n",
    "print(df.head())\n",
    "print(df.info())"
   ]
  },
  {
   "cell_type": "code",
   "execution_count": 58,
   "id": "189ff50a-c3ed-49ca-9a21-2736825b77b3",
   "metadata": {},
   "outputs": [
    {
     "name": "stdout",
     "output_type": "stream",
     "text": [
      "     symboling  wheelbase  carlength  carwidth  carheight  curbweight  \\\n",
      "0            3       88.6      168.8      64.1       48.8        2548   \n",
      "1            3       88.6      168.8      64.1       48.8        2548   \n",
      "2            1       94.5      171.2      65.5       52.4        2823   \n",
      "3            2       99.8      176.6      66.2       54.3        2337   \n",
      "4            2       99.4      176.6      66.4       54.3        2824   \n",
      "..         ...        ...        ...       ...        ...         ...   \n",
      "200         -1      109.1      188.8      68.9       55.5        2952   \n",
      "201         -1      109.1      188.8      68.8       55.5        3049   \n",
      "202         -1      109.1      188.8      68.9       55.5        3012   \n",
      "203         -1      109.1      188.8      68.9       55.5        3217   \n",
      "204         -1      109.1      188.8      68.9       55.5        3062   \n",
      "\n",
      "     enginesize  boreratio  stroke  compressionratio  ...  CarCompany_nissan  \\\n",
      "0           130       3.47    2.68               9.0  ...              False   \n",
      "1           130       3.47    2.68               9.0  ...              False   \n",
      "2           152       2.68    3.47               9.0  ...              False   \n",
      "3           109       3.19    3.40              10.0  ...              False   \n",
      "4           136       3.19    3.40               8.0  ...              False   \n",
      "..          ...        ...     ...               ...  ...                ...   \n",
      "200         141       3.78    3.15               9.5  ...              False   \n",
      "201         141       3.78    3.15               8.7  ...              False   \n",
      "202         173       3.58    2.87               8.8  ...              False   \n",
      "203         145       3.01    3.40              23.0  ...              False   \n",
      "204         141       3.78    3.15               9.5  ...              False   \n",
      "\n",
      "     CarCompany_peugeot  CarCompany_plymouth  CarCompany_porsche  \\\n",
      "0                 False                False               False   \n",
      "1                 False                False               False   \n",
      "2                 False                False               False   \n",
      "3                 False                False               False   \n",
      "4                 False                False               False   \n",
      "..                  ...                  ...                 ...   \n",
      "200               False                False               False   \n",
      "201               False                False               False   \n",
      "202               False                False               False   \n",
      "203               False                False               False   \n",
      "204               False                False               False   \n",
      "\n",
      "     CarCompany_renault  CarCompany_saab  CarCompany_subaru  \\\n",
      "0                 False            False              False   \n",
      "1                 False            False              False   \n",
      "2                 False            False              False   \n",
      "3                 False            False              False   \n",
      "4                 False            False              False   \n",
      "..                  ...              ...                ...   \n",
      "200               False            False              False   \n",
      "201               False            False              False   \n",
      "202               False            False              False   \n",
      "203               False            False              False   \n",
      "204               False            False              False   \n",
      "\n",
      "     CarCompany_toyota  CarCompany_volkswagen  CarCompany_volvo  \n",
      "0                False                  False             False  \n",
      "1                False                  False             False  \n",
      "2                False                  False             False  \n",
      "3                False                  False             False  \n",
      "4                False                  False             False  \n",
      "..                 ...                    ...               ...  \n",
      "200              False                  False              True  \n",
      "201              False                  False              True  \n",
      "202              False                  False              True  \n",
      "203              False                  False              True  \n",
      "204              False                  False              True  \n",
      "\n",
      "[205 rows x 65 columns]\n"
     ]
    }
   ],
   "source": [
    "#Preprocessing\n",
    "df1=df.copy()\n",
    "df1['CarCompany']=df1['CarName'].apply(lambda x: x.split(' ')[0].lower())\n",
    "df1['CarCompany']=df1['CarCompany'].replace({\n",
    "    'maxda':'mazda','porcshce':'porsche','toyouta':'toyota','vokswagen':'volkswagen','vw':'volkswagen'})\n",
    "df1['car_ID']=df1.drop(['car_ID'],axis=1,inplace=True)\n",
    "df1['CarName']=df1.drop(['CarName'],axis=1,inplace=True)\n",
    "categorical_cols=df1.select_dtypes(include=['object']).columns\n",
    "df1=pd.get_dummies(df1,columns=categorical_cols,drop_first=True)\n",
    "X=df1.drop('price',axis=1)\n",
    "y=df1['price']\n",
    "scaler=StandardScaler()\n",
    "X_scaled=scaler.fit_transform(X)\n",
    "X_train,X_test,y_train,y_test=train_test_split(X_scaled,y,test_size=0.2,random_state=42)\n",
    "print(df1)"
   ]
  },
  {
   "cell_type": "code",
   "execution_count": 62,
   "id": "c65f7258-0134-4be2-93aa-a674e497958a",
   "metadata": {},
   "outputs": [],
   "source": [
    "#2.Model implementation\n",
    "# Models\n",
    "models={\n",
    "    \"Linear Regression\":LinearRegression(),\n",
    "    \"Decision Tree Regressor\":DecisionTreeRegressor(random_state=42),\n",
    "    \"Random Forest Regressor\":RandomForestRegressor(random_state=42),\n",
    "    \"Gradient Boosting Regressor\":GradientBoostingRegressor(random_state=42),\n",
    "    \"Support Vector Regressor\":SVR()\n",
    "}\n",
    "results={}\n",
    "for name,model in models.items():\n",
    "    model.fit(X_train,y_train)\n",
    "    y_pred=model.predict(X_test)\n",
    "    results[name]={\n",
    "        \"r2_score\":r2_score(y_test,y_pred),\n",
    "        \"mse\":mean_squared_error(y_test,y_pred),\n",
    "        \"mae\":mean_absolute_error(y_test,y_pred)\n",
    "    }"
   ]
  },
  {
   "cell_type": "code",
   "execution_count": 64,
   "id": "046dc996-27ce-444a-b792-ecdb7ddfa62c",
   "metadata": {},
   "outputs": [
    {
     "name": "stdout",
     "output_type": "stream",
     "text": [
      "                             r2_score           mse          mae\n",
      "Linear Regression            0.910162  7.092188e+06  1760.870731\n",
      "Decision Tree Regressor      0.906907  7.349134e+06  1782.589439\n",
      "Random Forest Regressor      0.958267  3.294575e+06  1293.233793\n",
      "Gradient Boosting Regressor  0.924181  5.985429e+06  1710.336389\n",
      "Support Vector Regressor    -0.100615  8.688696e+07  5701.535525\n"
     ]
    }
   ],
   "source": [
    "#3.Model Evaluation\n",
    "df2=pd.DataFrame(results).T\n",
    "print(df2)"
   ]
  },
  {
   "cell_type": "code",
   "execution_count": null,
   "id": "72b9cb36-2f10-4cc0-8afb-64d133062477",
   "metadata": {},
   "outputs": [],
   "source": [
    "#Best Performing Model is found to be Random Forest Regressor\n",
    "#Explanation:\n",
    "#Highest R² Score(0.9583):This means it explains about 95.8% of the variance in car prices,which is excellent.\n",
    "#Lowest Mean Squared Error(MSE):\n",
    "#The average of the squared differences between predicted and actual values is lowest for Random Forest,indicating a better precision.\n",
    "#Lowest Mean Absolute Error(MAE):\n",
    "#It has the smallest average error in actual dollars,showing it's closest to true values on average."
   ]
  },
  {
   "cell_type": "code",
   "execution_count": 66,
   "id": "0c4cb384-cbda-4164-9bcf-9f7fbe356a47",
   "metadata": {},
   "outputs": [
    {
     "name": "stdout",
     "output_type": "stream",
     "text": [
      "           Feature  Importance\n",
      "6       enginesize    0.544159\n",
      "5       curbweight    0.298449\n",
      "13      highwaympg    0.044743\n",
      "10      horsepower    0.033483\n",
      "3         carwidth    0.013090\n",
      "2        carlength    0.007767\n",
      "44  CarCompany_bmw    0.007114\n",
      "1        wheelbase    0.006991\n",
      "12         citympg    0.006420\n",
      "11         peakrpm    0.006174\n"
     ]
    },
    {
     "data": {
      "image/png": "[encoded data removed]",
      "text/plain": [
       "<Figure size 1000x600 with 1 Axes>"
      ]
     },
     "metadata": {},
     "output_type": "display_data"
    }
   ],
   "source": [
    "#4.Feature Importance Analysis\n",
    "rf_model=RandomForestRegressor(random_state=42)\n",
    "rf_model.fit(X_train, y_train)\n",
    "importances=rf_model.feature_importances_\n",
    "feature_names=X.columns\n",
    "feat_importance_df=pd.DataFrame({'Feature': feature_names,'Importance': importances})\n",
    "feat_importance_df=feat_importance_df.sort_values(by='Importance', ascending=False)\n",
    "print(feat_importance_df.head(10))\n",
    "plt.figure(figsize=(10,6))\n",
    "sns.barplot(x='Importance',y='Feature',data=feat_importance_df.head(10))\n",
    "plt.title('Top 10 Important Features')\n",
    "plt.show()"
   ]
  },
  {
   "cell_type": "code",
   "execution_count": null,
   "id": "ec4a5316-b939-4435-bcd4-4d6a6297dde6",
   "metadata": {},
   "outputs": [],
   "source": [
    "#The significant variables affecting car prices:\n",
    "#enginesize\n",
    "#curbweight\n",
    "#horsepower\n",
    "#carwidth\n",
    "#citympg\n",
    "#highwaympg\n",
    "#CarCompany(some specific companies)\n",
    "#These features directly impact the value and performance of a car,thus heavily influencing price."
   ]
  },
  {
   "cell_type": "code",
   "execution_count": 70,
   "id": "29b4134a-0c14-4ed4-bc9c-fd607afc275e",
   "metadata": {},
   "outputs": [
    {
     "name": "stdout",
     "output_type": "stream",
     "text": [
      "Fitting 3 folds for each of 27 candidates, totalling 81 fits\n",
      "Best Parameters: {'max_depth': None, 'min_samples_split': 10, 'n_estimators': 200}\n",
      "Tuned R2: 0.9448446522327723\n",
      "Tuned MSE: 4354184.925760804\n",
      "Tuned MAE: 1454.6845268180045\n"
     ]
    }
   ],
   "source": [
    "#5.Hyperparameter Tuning\n",
    "from sklearn.model_selection import GridSearchCV\n",
    "param_grid={\n",
    "    'n_estimators':[100, 200, 300],\n",
    "    'max_depth':[None, 10, 20],\n",
    "    'min_samples_split':[2, 5, 10]\n",
    "}\n",
    "grid_search=GridSearchCV(RandomForestRegressor(random_state=42),param_grid,cv=3,n_jobs=-1,verbose=2,scoring='r2')\n",
    "grid_search.fit(X_train,y_train)\n",
    "print(\"Best Parameters:\",grid_search.best_params_)\n",
    "best_rf=grid_search.best_estimator_\n",
    "y_pred_tuned=best_rf.predict(X_test)\n",
    "print(\"Tuned R2:\",r2_score(y_test,y_pred_tuned))\n",
    "print(\"Tuned MSE:\",mean_squared_error(y_test,y_pred_tuned))\n",
    "print(\"Tuned MAE:\",mean_absolute_error(y_test,y_pred_tuned))"
   ]
  },
  {
   "cell_type": "code",
   "execution_count": null,
   "id": "62bb8565-7384-40ac-852d-119d668a8d3a",
   "metadata": {},
   "outputs": [],
   "source": []
  }
 ],
 "metadata": {
  "kernelspec": {
   "display_name": "Python 3 (ipykernel)",
   "language": "python",
   "name": "python3"
  },
  "language_info": {
   "codemirror_mode": {
    "name": "ipython",
    "version": 3
   },
   "file_extension": ".py",
   "mimetype": "text/x-python",
   "name": "python",
   "nbconvert_exporter": "python",
   "pygments_lexer": "ipython3",
   "version": "3.12.7"
  }
 },
 "nbformat": 4,
 "nbformat_minor": 5
}
