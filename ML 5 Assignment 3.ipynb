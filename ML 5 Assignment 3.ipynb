{
 "cells": [
  {
   "cell_type": "code",
   "execution_count": 1,
   "id": "1b09cf5d-76a1-40c2-84d0-5af2d2a7fcce",
   "metadata": {},
   "outputs": [
    {
     "name": "stdout",
     "output_type": "stream",
     "text": [
      "Missing values:\n",
      " MedInc        0\n",
      "HouseAge      0\n",
      "AveRooms      0\n",
      "AveBedrms     0\n",
      "Population    0\n",
      "AveOccup      0\n",
      "Latitude      0\n",
      "Longitude     0\n",
      "Target        0\n",
      "dtype: int64\n",
      "Scaled Features:\n",
      " [[ 2.34476576  0.98214266  0.62855945 -0.15375759 -0.9744286  -0.04959654\n",
      "   1.05254828 -1.32783522]\n",
      " [ 2.33223796 -0.60701891  0.32704136 -0.26333577  0.86143887 -0.09251223\n",
      "   1.04318455 -1.32284391]\n",
      " [ 1.7826994   1.85618152  1.15562047 -0.04901636 -0.82077735 -0.02584253\n",
      "   1.03850269 -1.33282653]\n",
      " [ 0.93296751  1.85618152  0.15696608 -0.04983292 -0.76602806 -0.0503293\n",
      "   1.03850269 -1.33781784]\n",
      " [-0.012881    1.85618152  0.3447108  -0.03290586 -0.75984669 -0.08561576\n",
      "   1.03850269 -1.33781784]]\n"
     ]
    }
   ],
   "source": [
    "#Loading and Preprocessing\n",
    "from sklearn.datasets import fetch_california_housing\n",
    "import pandas as pd\n",
    "from sklearn.preprocessing import StandardScaler\n",
    "import numpy as np\n",
    "#loading the dataset\n",
    "california=fetch_california_housing()\n",
    "df=pd.DataFrame(california.data,columns=california.feature_names)\n",
    "df['Target']=california.target\n",
    "#checking for any missing values\n",
    "print(\"Missing values:\\n\",df.isnull().sum())\n",
    "#feature scaling\n",
    "scaler=StandardScaler()\n",
    "X_scaled=scaler.fit_transform(df.drop('Target', axis=1))\n",
    "y=df['Target']\n",
    "print(\"Scaled Features:\\n\", X_scaled[:5])"
   ]
  },
  {
   "cell_type": "code",
   "execution_count": 3,
   "id": "39942d03-0aed-4261-b767-c336c80d09f7",
   "metadata": {},
   "outputs": [],
   "source": [
    "#Justification for the above performed step\n",
    "#Missing Values:Checked and found no missing value — California Housing( given dataset) is clean.\n",
    "#Scaling:Used StandardScaler because algorithms like SVR and Gradient Boosting are more prone to feature magnitudes."
   ]
  },
  {
   "cell_type": "code",
   "execution_count": 7,
   "id": "3e379914-2482-4018-a835-b37ca2224a0c",
   "metadata": {},
   "outputs": [
    {
     "name": "stdout",
     "output_type": "stream",
     "text": [
      "               Model       MSE       MAE  R² Score\n",
      "2      Random Forest  0.255876  0.327721  0.804735\n",
      "3  Gradient Boosting  0.293999  0.371650  0.775643\n",
      "4                SVR  0.355208  0.397764  0.728933\n",
      "1      Decision Tree  0.498366  0.455246  0.619687\n",
      "0  Linear Regression  0.555892  0.533200  0.575788\n"
     ]
    }
   ],
   "source": [
    "#2.Regression Algorithm Implementation\n",
    "from sklearn.linear_model import LinearRegression\n",
    "from sklearn.tree import DecisionTreeRegressor\n",
    "from sklearn.ensemble import RandomForestRegressor,GradientBoostingRegressor\n",
    "from sklearn.svm import SVR\n",
    "from sklearn.model_selection import train_test_split\n",
    "from sklearn.metrics import mean_squared_error, mean_absolute_error, r2_score\n",
    "#splitting the data\n",
    "X_train,X_test,y_train,y_test=train_test_split(X_scaled,y,test_size=0.2,random_state=42)\n",
    "#models:\n",
    "models={\n",
    "    \"Linear Regression\":LinearRegression(),\n",
    "    \"Decision Tree\":DecisionTreeRegressor(random_state=42),\n",
    "    \"Random Forest\":RandomForestRegressor(random_state=42),\n",
    "    \"Gradient Boosting\":GradientBoostingRegressor(random_state=42),\n",
    "    \"SVR\":SVR()\n",
    "}\n",
    "results=[]\n",
    "#training and evaluating each models:\n",
    "for name,model in models.items():\n",
    "    model.fit(X_train,y_train)\n",
    "    y_pred=model.predict(X_test)\n",
    "    mse=mean_squared_error(y_test,y_pred)\n",
    "    mae=mean_absolute_error(y_test,y_pred)\n",
    "    r2=r2_score(y_test,y_pred)\n",
    "    results.append({\n",
    "        \"Model\":name,\n",
    "        \"MSE\":mse,\n",
    "        \"MAE\":mae,\n",
    "        \"R² Score\":r2\n",
    "    })\n",
    "#providing results as dataframe\n",
    "results_df=pd.DataFrame(results)\n",
    "print(results_df.sort_values(by=\"R² Score\",ascending=False))"
   ]
  },
  {
   "cell_type": "code",
   "execution_count": 9,
   "id": "32f4929e-2795-4056-b670-581ae92a844a",
   "metadata": {},
   "outputs": [],
   "source": [
    "#explanation for the use of algorithms\n",
    "#Linear Regression:Assumes a linear relationship; fast and interpretable.\n",
    "#Decision Tree: Captures non-linear patterns; prone to overfitting.\n",
    "#Random Forest: Ensemble of trees; reduces overfitting.\n",
    "#Gradient Boosting: Boosted trees; excellent performance on structured data.\n",
    "#SVR (Support Vector Regression): Uses margins for prediction; sensitive to scale and slower"
   ]
  },
  {
   "cell_type": "code",
   "execution_count": 11,
   "id": "cfd0ead7-575b-438b-98c8-05b9babcbb27",
   "metadata": {},
   "outputs": [],
   "source": [
    "#3.Model Evaluation and Comparison\n",
    "#After running the above code, the output had shown a comparison of MSE,MAE,and R².\n",
    "#Best Performing:Likely Gradient Boosting or Random Forest(which is based on typical performance in structured data).\n",
    "#Worst Performing:being SVR, due to its sensitivity to scale and computational cost on larger datasets."
   ]
  },
  {
   "cell_type": "code",
   "execution_count": null,
   "id": "baa2d0a5-f423-4a3d-bb96-0fe8b973e7f5",
   "metadata": {},
   "outputs": [],
   "source": []
  }
 ],
 "metadata": {
  "kernelspec": {
   "display_name": "Python 3 (ipykernel)",
   "language": "python",
   "name": "python3"
  },
  "language_info": {
   "codemirror_mode": {
    "name": "ipython",
    "version": 3
   },
   "file_extension": ".py",
   "mimetype": "text/x-python",
   "name": "python",
   "nbconvert_exporter": "python",
   "pygments_lexer": "ipython3",
   "version": "3.12.7"
  }
 },
 "nbformat": 4,
 "nbformat_minor": 5
}
